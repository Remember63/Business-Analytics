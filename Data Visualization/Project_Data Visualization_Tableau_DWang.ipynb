Insight 1:

•	Link (Race VS Poverty worksheet): 
https://public.tableau.com/profile/dwang2746#!/vizhome/USCensus2015_15893320847750/RaceVSPoverty
•	Summary: 
some races show correlation to poverty. 
For white, population percentage and poverty are negatively corrected. 
For black, population percentage and poverty are positively correlated.
•	Design: 
Limited my analysis to only 2 races, white and black, instead of comparing all the races with poverty; 
changed to 1 color only to show the relationship across US; 
changed to show the data in state level so that the visual doesn’t look too busy.
•	Resources: 
Poverty Rate by Race/Ethnicity
https://www.kff.org/other/state-indicator/poverty-rate-by-raceethnicity/?currentTimeframe=3&selectedDistributions=white&sortModel=%7B%22colId%22:%22Location%22,%22sort%22:%22asc%22%7D


Insight 2:

•	Link (Poverty Map worksheet):
https://public.tableau.com/profile/dwang2746#!/vizhome/USCensus2015_15893320847750/PovertyMap
•	Summary:
Puerto Rico, Alaska, and some counties in inland states have higher poverty. 
In mainland US, Oglala Lakota in South Dakota has the highest poverty, 53.3%.
•	Design: 
Added a title on the chart so that viewer can find out context easier.
•	Resources: 
US Poverty http://www.censusscope.org/us/map_poverty.html


Insight 3:

•	Link (Poverty Dashboard):
https://public.tableau.com/profile/dwang2746#!/vizhome/USCensus2015_15893320847750/PovertyDashboard
•	Summary:
Poverty and unemployment are positively correlated. The higher the unemployment, the higher the poverty. 
Puerto Rico has both the highest unemployment and poverty. The second follows South Dakota. 
Borden county in Texas has the lowest poverty, 1.4%, and very low unemployment, 0.7%.
The median unemployment in US is around 8%, range is around 35%. The median poverty is around 16%, range is around 65% ---- big difference between states and between counties.
•	Design: 
Changed to 1 color only to show the poverty and unemployment across counties in USSA;
Removed legend after change above was done;
•	Resources:
Poverty and Unemployment in the United States
https://courses.lumenlearning.com/wm-introductiontosociology/chapter/poverty-and-unemployment-in-the-united-states/
